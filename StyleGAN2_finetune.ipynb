{
  "nbformat": 4,
  "nbformat_minor": 0,
  "metadata": {
    "colab": {
      "name": "StyleGAN2_training.ipynb",
      "provenance": [],
      "authorship_tag": "ABX9TyOCE0BgqtkZT1llu2N0R7xu",
      "include_colab_link": true
    },
    "kernelspec": {
      "name": "python3",
      "display_name": "Python 3"
    },
    "language_info": {
      "name": "python"
    },
    "accelerator": "GPU"
  },
  "cells": [
    {
      "cell_type": "markdown",
      "metadata": {
        "id": "view-in-github",
        "colab_type": "text"
      },
      "source": [
        "<a href=\"https://colab.research.google.com/github/minhluu99/Text-Driven-Face-Image-Manipulation/blob/master/StyleGAN2_finetune.ipynb\" target=\"_parent\"><img src=\"https://colab.research.google.com/assets/colab-badge.svg\" alt=\"Open In Colab\"/></a>"
      ]
    },
    {
      "cell_type": "code",
      "source": [
        "from google.colab import drive\n",
        "drive.mount('/content/drive')"
      ],
      "metadata": {
        "colab": {
          "base_uri": "https://localhost:8080/"
        },
        "id": "mDf5gqEoA51l",
        "outputId": "ff3df77a-83e3-455a-e27a-0fe08f82c562"
      },
      "execution_count": 1,
      "outputs": [
        {
          "output_type": "stream",
          "name": "stdout",
          "text": [
            "Mounted at /content/drive\n"
          ]
        }
      ]
    },
    {
      "cell_type": "code",
      "source": [
        "!nvidia-smi"
      ],
      "metadata": {
        "colab": {
          "base_uri": "https://localhost:8080/"
        },
        "id": "SFWb0J5MBM7k",
        "outputId": "5f8738b8-3342-4d65-bd81-7731cddcd04d"
      },
      "execution_count": null,
      "outputs": [
        {
          "output_type": "stream",
          "name": "stdout",
          "text": [
            "Fri Dec 10 08:21:36 2021       \n",
            "+-----------------------------------------------------------------------------+\n",
            "| NVIDIA-SMI 495.44       Driver Version: 460.32.03    CUDA Version: 11.2     |\n",
            "|-------------------------------+----------------------+----------------------+\n",
            "| GPU  Name        Persistence-M| Bus-Id        Disp.A | Volatile Uncorr. ECC |\n",
            "| Fan  Temp  Perf  Pwr:Usage/Cap|         Memory-Usage | GPU-Util  Compute M. |\n",
            "|                               |                      |               MIG M. |\n",
            "|===============================+======================+======================|\n",
            "|   0  Tesla P100-PCIE...  Off  | 00000000:00:04.0 Off |                    0 |\n",
            "| N/A   34C    P0    26W / 250W |      0MiB / 16280MiB |      0%      Default |\n",
            "|                               |                      |                  N/A |\n",
            "+-------------------------------+----------------------+----------------------+\n",
            "                                                                               \n",
            "+-----------------------------------------------------------------------------+\n",
            "| Processes:                                                                  |\n",
            "|  GPU   GI   CI        PID   Type   Process name                  GPU Memory |\n",
            "|        ID   ID                                                   Usage      |\n",
            "|=============================================================================|\n",
            "|  No running processes found                                                 |\n",
            "+-----------------------------------------------------------------------------+\n"
          ]
        }
      ]
    },
    {
      "cell_type": "code",
      "execution_count": null,
      "metadata": {
        "colab": {
          "base_uri": "https://localhost:8080/"
        },
        "id": "QChYcMDQ9Dg4",
        "outputId": "2e7d8119-2dfd-4039-81e2-4306223a0378"
      },
      "outputs": [
        {
          "output_type": "stream",
          "name": "stdout",
          "text": [
            "TensorFlow 1.x selected.\n",
            "/content/drive/Shareddrives/styleGAN/stylegan2\n",
            "CPU says hello.\n",
            "GPU says hello.\n",
            "Collecting ninja\n",
            "  Downloading ninja-1.10.2.3-py2.py3-none-manylinux_2_5_x86_64.manylinux1_x86_64.whl (108 kB)\n",
            "\u001b[K     |████████████████████████████████| 108 kB 15.0 MB/s \n",
            "\u001b[?25hInstalling collected packages: ninja\n",
            "Successfully installed ninja-1.10.2.3\n",
            "Tensorflow version: 1.15.2\n",
            "GPU 0: Tesla P100-PCIE-16GB (UUID: GPU-b213112c-a0cf-51d0-b856-7344ed9c15eb)\n",
            "GPU Identified at: /device:GPU:0\n"
          ]
        }
      ],
      "source": [
        "%tensorflow_version 1.x\n",
        "import tensorflow as tf\n",
        "import os\n",
        "\n",
        "# Download the code\n",
        "if not os.path.exists('/content/drive/Shareddrives/styleGAN/stylegan2'):\n",
        "  %cd /content/drive/My\\ Drive/\n",
        "  !mkdir stylegan2-colab\n",
        "  %cd stylegan2-colab/\n",
        "  !git clone https://github.com/dvschultz/stylegan2\n",
        "  %cd stylegan2\n",
        "  !mkdir pkl\n",
        "  %cd pkl\n",
        "  !gdown --id 1JLqXE5bGZnlu2BkbLPD5_ZxoO3Nz-AvF #inception: https://drive.google.com/open?id=1JLqXE5bGZnlu2BkbLPD5_ZxoO3Nz-AvF\n",
        "  %cd ../\n",
        "  !mkdir results\n",
        "  !mkdir results/00001-pretrained\n",
        "  %cd results/00001-pretrained\n",
        "  !gdown --id 1UlDmJVLLnBD9SnLSMXeiZRO6g-OMQCA_\n",
        "  !mv stylegan2-ffhq-config-f.pkl network-snapshot-10000.pkl\n",
        "  %cd ../../\n",
        "  %mkdir datasets\n",
        "%cd /content/drive/Shareddrives/styleGAN/stylegan2\n",
        "!nvcc test_nvcc.cu -o test_nvcc -run\n",
        "!pip install ninja\n",
        "print('Tensorflow version: {}'.format(tf.__version__) )\n",
        "!nvidia-smi -L\n",
        "print('GPU Identified at: {}'.format(tf.test.gpu_device_name()))\n"
      ]
    },
    {
      "cell_type": "code",
      "source": [
        "!python dataset_tool.py create_from_images /content/drive/Shareddrives/styleGAN/data/custom /content/drive/Shareddrives/styleGAN/data/train"
      ],
      "metadata": {
        "colab": {
          "base_uri": "https://localhost:8080/"
        },
        "id": "_BIolzC8A45m",
        "outputId": "1ae81c96-4e78-458d-ce60-0ea1bb237afc"
      },
      "execution_count": null,
      "outputs": [
        {
          "output_type": "stream",
          "name": "stdout",
          "text": [
            "Loading images from \"/content/drive/Shareddrives/styleGAN/data/train\"\n",
            "Creating dataset \"/content/drive/Shareddrives/styleGAN/data/custom\"\n",
            "0 / 435\rdataset_tool.py:86: DeprecationWarning: tostring() is deprecated. Use tobytes() instead.\n",
            "  'data': tf.train.Feature(bytes_list=tf.train.BytesList(value=[quant.tostring()]))}))\n",
            "Added 435 images.\n"
          ]
        }
      ]
    },
    {
      "cell_type": "code",
      "source": [
        "!python dataset_tool.py display /content/drive/Shareddrives/styleGAN/data/custom"
      ],
      "metadata": {
        "colab": {
          "base_uri": "https://localhost:8080/"
        },
        "id": "HHKiA4ryI5xj",
        "outputId": "1a55be66-cd81-446e-84dc-6c3d11bde955"
      },
      "execution_count": null,
      "outputs": [
        {
          "output_type": "stream",
          "name": "stdout",
          "text": [
            "Loading dataset \"/content/drive/Shareddrives/styleGAN/data/custom-data-train\"\n",
            "tcmalloc: large alloc 4294967296 bytes == 0x5605b0394000 @  0x7f665d4e6001 0x7f665ace054f 0x7f665ad30b58 0x7f665ad34b17 0x7f665add3203 0x5605a97f2544 0x5605a97f2240 0x5605a9866627 0x5605a9860ced 0x5605a97f448c 0x5605a9835159 0x5605a98320a4 0x5605a97f2d49 0x5605a986694f 0x5605a98609ee 0x5605a9732e2b 0x5605a9862fe4 0x5605a9860ced 0x5605a97f3bda 0x5605a9861915 0x5605a98609ee 0x5605a98606f3 0x5605a992a4c2 0x5605a992a83d 0x5605a992a6e6 0x5605a9902163 0x5605a9901e0c 0x7f665c2cebf7 0x5605a9901cea\n",
            "tcmalloc: large alloc 4294967296 bytes == 0x5606b0394000 @  0x7f665d4e41e7 0x7f665ace046e 0x7f665ad30c7b 0x7f665ad3135f 0x7f665add3103 0x5605a97f2544 0x5605a97f2240 0x5605a9866627 0x5605a98609ee 0x5605a97f3bda 0x5605a9862737 0x5605a98609ee 0x5605a97f3bda 0x5605a9862737 0x5605a98609ee 0x5605a97f3bda 0x5605a9862737 0x5605a97f3afa 0x5605a9861915 0x5605a98609ee 0x5605a97f3bda 0x5605a9865d00 0x5605a98609ee 0x5605a97f3bda 0x5605a9862737 0x5605a9860ced 0x5605a97f448c 0x5605a9835159 0x5605a98320a4 0x5605a97f2d49 0x5605a986694f\n",
            "tcmalloc: large alloc 4294967296 bytes == 0x5607b1660000 @  0x7f665d4e41e7 0x7f665ace046e 0x7f665ad30c7b 0x7f665ad3135f 0x7f66170f9235 0x7f6616a7c792 0x7f6616a7cd42 0x7f6616a35aee 0x5605a97f2437 0x5605a97f2240 0x5605a98660f3 0x5605a97f3afa 0x5605a9861c0d 0x5605a9860ced 0x5605a9732eb0 0x5605a9862fe4 0x5605a98609ee 0x5605a97f3bda 0x5605a9861c0d 0x5605a9860ced 0x5605a97f3bda 0x5605a9861c0d 0x5605a97f3afa 0x5605a9861c0d 0x5605a98609ee 0x5605a97f4271 0x5605a97f4698 0x5605a9862fe4 0x5605a98609ee 0x5605a97f3bda 0x5605a9861915\n",
            "Displaying images\n",
            ": cannot connect to X server \n"
          ]
        }
      ]
    },
    {
      "cell_type": "code",
      "source": [
        "!python run_training.py --num-gpus=1 --data-dir=/content/drive/Shareddrives/styleGAN/data --config=config-f \\\n",
        "  --dataset=custom --mirror-augment=true"
      ],
      "metadata": {
        "colab": {
          "base_uri": "https://localhost:8080/"
        },
        "id": "pdPXoKkREEF1",
        "outputId": "3495cae3-7ef5-4c3d-c818-455ca41971d7"
      },
      "execution_count": null,
      "outputs": [
        {
          "output_type": "stream",
          "name": "stdout",
          "text": [
            "Local submit - run_dir: results/00004-stylegan2-custom-1gpu-config-f\n",
            "dnnlib: Running training.training_loop.training_loop() on localhost...\n",
            "Streaming data using training.dataset.TFRecordDataset...\n",
            "tcmalloc: large alloc 4294967296 bytes == 0x558e48116000 @  0x7f1b16bdc001 0x7f1b136c054f 0x7f1b13710b58 0x7f1b13714b17 0x7f1b137b3203 0x558e3f97e544 0x558e3f97e240 0x558e3f9f2627 0x558e3f9ecced 0x558e3f98048c 0x558e3f9c1159 0x558e3f9be0a4 0x558e3f980698 0x558e3f9eefe4 0x558e3f9ec9ee 0x558e3f8bee2b 0x558e3f9eefe4 0x558e3f9ec9ee 0x558e3f8bee2b 0x558e3f9eefe4 0x558e3f97fafa 0x558e3f9ed915 0x558e3f97fafa 0x558e3f9edc0d 0x558e3f9ec9ee 0x558e3f8bee2b 0x558e3f9eefe4 0x558e3f9ec9ee 0x558e3f8bee2b 0x558e3f9eefe4 0x558e3f97fafa\n",
            "tcmalloc: large alloc 4294967296 bytes == 0x558f48116000 @  0x7f1b16bda1e7 0x7f1b136c046e 0x7f1b13710c7b 0x7f1b1371135f 0x7f1b137b3103 0x558e3f97e544 0x558e3f97e240 0x558e3f9f2627 0x558e3f9ec9ee 0x558e3f97fbda 0x558e3f9ee737 0x558e3f9ec9ee 0x558e3f97fbda 0x558e3f9ee737 0x558e3f9ec9ee 0x558e3f97fbda 0x558e3f9ee737 0x558e3f97fafa 0x558e3f9ed915 0x558e3f9ec9ee 0x558e3f97fbda 0x558e3f9f1d00 0x558e3f9ec9ee 0x558e3f97fbda 0x558e3f9ee737 0x558e3f9ecced 0x558e3f98048c 0x558e3f9c1159 0x558e3f9be0a4 0x558e3f980698 0x558e3f9eefe4\n",
            "tcmalloc: large alloc 4294967296 bytes == 0x5590492ae000 @  0x7f1b16bda1e7 0x7f1b136c046e 0x7f1b13710c7b 0x7f1b1371135f 0x7f1acf42d235 0x7f1acedb0792 0x7f1acedb0d42 0x7f1aced69aee 0x558e3f97e437 0x558e3f97e240 0x558e3f9f20f3 0x558e3f97fafa 0x558e3f9edc0d 0x558e3f9ecced 0x558e3f8beeb0 0x558e3f9eefe4 0x558e3f9ec9ee 0x558e3f97fbda 0x558e3f9edc0d 0x558e3f9ecced 0x558e3f97fbda 0x558e3f9edc0d 0x558e3f97fafa 0x558e3f9edc0d 0x558e3f9ec9ee 0x558e3f980271 0x558e3f980698 0x558e3f9eefe4 0x558e3f9ec9ee 0x558e3f97fbda 0x558e3f9ed915\n",
            "Dataset shape = [3, 1024, 1024]\n",
            "Dynamic range = [0, 255]\n",
            "Label size    = 0\n",
            "Constructing networks...\n",
            "Setting up TensorFlow plugin \"fused_bias_act.cu\": Preprocessing... Loading... Done.\n",
            "Setting up TensorFlow plugin \"upfirdn_2d.cu\": Preprocessing... Loading... Done.\n",
            "\n",
            "G                               Params    OutputShape          WeightShape     \n",
            "---                             ---       ---                  ---             \n",
            "latents_in                      -         (?, 512)             -               \n",
            "labels_in                       -         (?, 0)               -               \n",
            "lod                             -         ()                   -               \n",
            "dlatent_avg                     -         (512,)               -               \n",
            "G_mapping/latents_in            -         (?, 512)             -               \n",
            "G_mapping/labels_in             -         (?, 0)               -               \n",
            "G_mapping/Normalize             -         (?, 512)             -               \n",
            "G_mapping/Dense0                262656    (?, 512)             (512, 512)      \n",
            "G_mapping/Dense1                262656    (?, 512)             (512, 512)      \n",
            "G_mapping/Dense2                262656    (?, 512)             (512, 512)      \n",
            "G_mapping/Dense3                262656    (?, 512)             (512, 512)      \n",
            "G_mapping/Dense4                262656    (?, 512)             (512, 512)      \n",
            "G_mapping/Dense5                262656    (?, 512)             (512, 512)      \n",
            "G_mapping/Dense6                262656    (?, 512)             (512, 512)      \n",
            "G_mapping/Dense7                262656    (?, 512)             (512, 512)      \n",
            "G_mapping/Broadcast             -         (?, 18, 512)         -               \n",
            "G_mapping/dlatents_out          -         (?, 18, 512)         -               \n",
            "Truncation/Lerp                 -         (?, 18, 512)         -               \n",
            "G_synthesis/dlatents_in         -         (?, 18, 512)         -               \n",
            "G_synthesis/4x4/Const           8192      (?, 512, 4, 4)       (1, 512, 4, 4)  \n",
            "G_synthesis/4x4/Conv            2622465   (?, 512, 4, 4)       (3, 3, 512, 512)\n",
            "G_synthesis/4x4/ToRGB           264195    (?, 3, 4, 4)         (1, 1, 512, 3)  \n",
            "G_synthesis/8x8/Conv0_up        2622465   (?, 512, 8, 8)       (3, 3, 512, 512)\n",
            "G_synthesis/8x8/Conv1           2622465   (?, 512, 8, 8)       (3, 3, 512, 512)\n",
            "G_synthesis/8x8/Upsample        -         (?, 3, 8, 8)         -               \n",
            "G_synthesis/8x8/ToRGB           264195    (?, 3, 8, 8)         (1, 1, 512, 3)  \n",
            "G_synthesis/16x16/Conv0_up      2622465   (?, 512, 16, 16)     (3, 3, 512, 512)\n",
            "G_synthesis/16x16/Conv1         2622465   (?, 512, 16, 16)     (3, 3, 512, 512)\n",
            "G_synthesis/16x16/Upsample      -         (?, 3, 16, 16)       -               \n",
            "G_synthesis/16x16/ToRGB         264195    (?, 3, 16, 16)       (1, 1, 512, 3)  \n",
            "G_synthesis/32x32/Conv0_up      2622465   (?, 512, 32, 32)     (3, 3, 512, 512)\n",
            "G_synthesis/32x32/Conv1         2622465   (?, 512, 32, 32)     (3, 3, 512, 512)\n",
            "G_synthesis/32x32/Upsample      -         (?, 3, 32, 32)       -               \n",
            "G_synthesis/32x32/ToRGB         264195    (?, 3, 32, 32)       (1, 1, 512, 3)  \n",
            "G_synthesis/64x64/Conv0_up      2622465   (?, 512, 64, 64)     (3, 3, 512, 512)\n",
            "G_synthesis/64x64/Conv1         2622465   (?, 512, 64, 64)     (3, 3, 512, 512)\n",
            "G_synthesis/64x64/Upsample      -         (?, 3, 64, 64)       -               \n",
            "G_synthesis/64x64/ToRGB         264195    (?, 3, 64, 64)       (1, 1, 512, 3)  \n",
            "G_synthesis/128x128/Conv0_up    1442561   (?, 256, 128, 128)   (3, 3, 512, 256)\n",
            "G_synthesis/128x128/Conv1       721409    (?, 256, 128, 128)   (3, 3, 256, 256)\n",
            "G_synthesis/128x128/Upsample    -         (?, 3, 128, 128)     -               \n",
            "G_synthesis/128x128/ToRGB       132099    (?, 3, 128, 128)     (1, 1, 256, 3)  \n",
            "G_synthesis/256x256/Conv0_up    426369    (?, 128, 256, 256)   (3, 3, 256, 128)\n",
            "G_synthesis/256x256/Conv1       213249    (?, 128, 256, 256)   (3, 3, 128, 128)\n",
            "G_synthesis/256x256/Upsample    -         (?, 3, 256, 256)     -               \n",
            "G_synthesis/256x256/ToRGB       66051     (?, 3, 256, 256)     (1, 1, 128, 3)  \n",
            "G_synthesis/512x512/Conv0_up    139457    (?, 64, 512, 512)    (3, 3, 128, 64) \n",
            "G_synthesis/512x512/Conv1       69761     (?, 64, 512, 512)    (3, 3, 64, 64)  \n",
            "G_synthesis/512x512/Upsample    -         (?, 3, 512, 512)     -               \n",
            "G_synthesis/512x512/ToRGB       33027     (?, 3, 512, 512)     (1, 1, 64, 3)   \n",
            "G_synthesis/1024x1024/Conv0_up  51297     (?, 32, 1024, 1024)  (3, 3, 64, 32)  \n",
            "G_synthesis/1024x1024/Conv1     25665     (?, 32, 1024, 1024)  (3, 3, 32, 32)  \n",
            "G_synthesis/1024x1024/Upsample  -         (?, 3, 1024, 1024)   -               \n",
            "G_synthesis/1024x1024/ToRGB     16515     (?, 3, 1024, 1024)   (1, 1, 32, 3)   \n",
            "G_synthesis/images_out          -         (?, 3, 1024, 1024)   -               \n",
            "G_synthesis/noise0              -         (1, 1, 4, 4)         -               \n",
            "G_synthesis/noise1              -         (1, 1, 8, 8)         -               \n",
            "G_synthesis/noise2              -         (1, 1, 8, 8)         -               \n",
            "G_synthesis/noise3              -         (1, 1, 16, 16)       -               \n",
            "G_synthesis/noise4              -         (1, 1, 16, 16)       -               \n",
            "G_synthesis/noise5              -         (1, 1, 32, 32)       -               \n",
            "G_synthesis/noise6              -         (1, 1, 32, 32)       -               \n",
            "G_synthesis/noise7              -         (1, 1, 64, 64)       -               \n",
            "G_synthesis/noise8              -         (1, 1, 64, 64)       -               \n",
            "G_synthesis/noise9              -         (1, 1, 128, 128)     -               \n",
            "G_synthesis/noise10             -         (1, 1, 128, 128)     -               \n",
            "G_synthesis/noise11             -         (1, 1, 256, 256)     -               \n",
            "G_synthesis/noise12             -         (1, 1, 256, 256)     -               \n",
            "G_synthesis/noise13             -         (1, 1, 512, 512)     -               \n",
            "G_synthesis/noise14             -         (1, 1, 512, 512)     -               \n",
            "G_synthesis/noise15             -         (1, 1, 1024, 1024)   -               \n",
            "G_synthesis/noise16             -         (1, 1, 1024, 1024)   -               \n",
            "images_out                      -         (?, 3, 1024, 1024)   -               \n",
            "---                             ---       ---                  ---             \n",
            "Total                           30370060                                       \n",
            "\n",
            "\n",
            "D                     Params    OutputShape          WeightShape     \n",
            "---                   ---       ---                  ---             \n",
            "images_in             -         (?, 3, 1024, 1024)   -               \n",
            "labels_in             -         (?, 0)               -               \n",
            "1024x1024/FromRGB     128       (?, 32, 1024, 1024)  (1, 1, 3, 32)   \n",
            "1024x1024/Conv0       9248      (?, 32, 1024, 1024)  (3, 3, 32, 32)  \n",
            "1024x1024/Conv1_down  18496     (?, 64, 512, 512)    (3, 3, 32, 64)  \n",
            "1024x1024/Skip        2048      (?, 64, 512, 512)    (1, 1, 32, 64)  \n",
            "512x512/Conv0         36928     (?, 64, 512, 512)    (3, 3, 64, 64)  \n",
            "512x512/Conv1_down    73856     (?, 128, 256, 256)   (3, 3, 64, 128) \n",
            "512x512/Skip          8192      (?, 128, 256, 256)   (1, 1, 64, 128) \n",
            "256x256/Conv0         147584    (?, 128, 256, 256)   (3, 3, 128, 128)\n",
            "256x256/Conv1_down    295168    (?, 256, 128, 128)   (3, 3, 128, 256)\n",
            "256x256/Skip          32768     (?, 256, 128, 128)   (1, 1, 128, 256)\n",
            "128x128/Conv0         590080    (?, 256, 128, 128)   (3, 3, 256, 256)\n",
            "128x128/Conv1_down    1180160   (?, 512, 64, 64)     (3, 3, 256, 512)\n",
            "128x128/Skip          131072    (?, 512, 64, 64)     (1, 1, 256, 512)\n",
            "64x64/Conv0           2359808   (?, 512, 64, 64)     (3, 3, 512, 512)\n",
            "64x64/Conv1_down      2359808   (?, 512, 32, 32)     (3, 3, 512, 512)\n",
            "64x64/Skip            262144    (?, 512, 32, 32)     (1, 1, 512, 512)\n",
            "32x32/Conv0           2359808   (?, 512, 32, 32)     (3, 3, 512, 512)\n",
            "32x32/Conv1_down      2359808   (?, 512, 16, 16)     (3, 3, 512, 512)\n",
            "32x32/Skip            262144    (?, 512, 16, 16)     (1, 1, 512, 512)\n",
            "16x16/Conv0           2359808   (?, 512, 16, 16)     (3, 3, 512, 512)\n",
            "16x16/Conv1_down      2359808   (?, 512, 8, 8)       (3, 3, 512, 512)\n",
            "16x16/Skip            262144    (?, 512, 8, 8)       (1, 1, 512, 512)\n",
            "8x8/Conv0             2359808   (?, 512, 8, 8)       (3, 3, 512, 512)\n",
            "8x8/Conv1_down        2359808   (?, 512, 4, 4)       (3, 3, 512, 512)\n",
            "8x8/Skip              262144    (?, 512, 4, 4)       (1, 1, 512, 512)\n",
            "4x4/MinibatchStddev   -         (?, 513, 4, 4)       -               \n",
            "4x4/Conv              2364416   (?, 512, 4, 4)       (3, 3, 513, 512)\n",
            "4x4/Dense0            4194816   (?, 512)             (8192, 512)     \n",
            "Output                513       (?, 1)               (512, 1)        \n",
            "scores_out            -         (?, 1)               -               \n",
            "---                   ---       ---                  ---             \n",
            "Total                 29012513                                       \n",
            "\n",
            "Building TensorFlow graph...\n",
            "Initializing logs...\n",
            "Training for 25000 kimg...\n",
            "\n",
            "tick 0     kimg 0.1      lod 0.00  minibatch 16   time 54s          sec/tick 54.4    sec/kimg 850.75  maintenance 0.0    gpumem 13.1\n",
            "^C\n"
          ]
        }
      ]
    },
    {
      "cell_type": "code",
      "source": [
        ""
      ],
      "metadata": {
        "id": "tgj-7aXckmFy"
      },
      "execution_count": null,
      "outputs": []
    },
    {
      "cell_type": "markdown",
      "source": [
        "# **StyleGAN transfer learning**"
      ],
      "metadata": {
        "id": "VRbkUzBpkgXq"
      }
    },
    {
      "cell_type": "code",
      "source": [
        "from google.colab import drive\n",
        "drive.mount('/content/drive', force_remount=True)"
      ],
      "metadata": {
        "id": "jUFab1WRklBK"
      },
      "execution_count": null,
      "outputs": []
    },
    {
      "cell_type": "code",
      "source": [
        "#Ensure Tensorflow version 1.15.2 is selected. StyleGAN will work with tf 1.x only.\n",
        "%tensorflow_version 1.x\n",
        "import tensorflow\n",
        "print(tensorflow.__version__)"
      ],
      "metadata": {
        "id": "j1rVFwUXkmpC"
      },
      "execution_count": null,
      "outputs": []
    },
    {
      "cell_type": "code",
      "source": [
        "%tensorflow_version 1.x\n",
        "import tensorflow as tf\n",
        "import os\n",
        "\n",
        "# Download the code\n",
        "if not os.path.exists('/content/drive/Shareddrives/styleGAN/stylegan2'):\n",
        "  !git clone https://github.com/NVlabs/stylegan2.git /content/drive/Shareddrives/styleGAN/stylegan2\n",
        "%cd /content/drive/Shareddrives/styleGAN/stylegan2\n",
        "!nvcc test_nvcc.cu -o test_nvcc -run\n",
        "!pip install ninja\n",
        "print('Tensorflow version: {}'.format(tf.__version__) )\n",
        "!nvidia-smi -L\n",
        "print('GPU Identified at: {}'.format(tf.test.gpu_device_name()))"
      ],
      "metadata": {
        "id": "nYodKP_lkoqC"
      },
      "execution_count": null,
      "outputs": []
    },
    {
      "cell_type": "code",
      "source": [
        "import sys\n",
        "sys.path.insert(0, \"/content/drive/Shareddrives/styleGAN/stylegan2\")\n",
        "import dnnlib\n"
      ],
      "metadata": {
        "id": "RGqY3yMmk4b7"
      },
      "execution_count": null,
      "outputs": []
    },
    {
      "cell_type": "code",
      "source": [
        "# resize all the images to same size\n",
        "import os\n",
        "from tqdm import tqdm\n",
        "import cv2\n",
        "from PIL import Image\n",
        "from resizeimage import resizeimage\n",
        "path = '/content/CData/'\n",
        "for filename in tqdm(os.listdir(path),desc ='reading images ...'):\n",
        "image = Image.open(path+filename)\n",
        "image = image.resize((64,64))\n",
        "image.save(path+filename, image.format)"
      ],
      "metadata": {
        "id": "EGfQbTAtliDC"
      },
      "execution_count": null,
      "outputs": []
    },
    {
      "cell_type": "code",
      "source": [
        "! python /content/stylegan/dataset_tool.py create_from_images /content/stylegan/datasets/custom-dataset /content/texture\n",
        "replace your custom dataset path (instead of /content/texture)"
      ],
      "metadata": {
        "id": "8GeidtfxllQx"
      },
      "execution_count": null,
      "outputs": []
    }
  ]
}